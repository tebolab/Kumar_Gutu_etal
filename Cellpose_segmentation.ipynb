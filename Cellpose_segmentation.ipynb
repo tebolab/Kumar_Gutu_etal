{
 "cells": [
  {
   "cell_type": "code",
   "execution_count": null,
   "id": "594efc44-a5b4-41b6-9b77-79fdc3e897d2",
   "metadata": {},
   "outputs": [],
   "source": [
    "import numpy as np\n",
    "import time, os, sys\n",
    "from urllib.parse import urlparse\n",
    "import matplotlib.pyplot as plt\n",
    "import matplotlib as mpl\n",
    "%matplotlib inline\n",
    "mpl.rcParams['figure.dpi'] = 300\n",
    "from cellpose import utils, io"
   ]
  },
  {
   "cell_type": "code",
   "execution_count": null,
   "id": "fa17d687-f2d6-42e8-a55a-477a88492f22",
   "metadata": {},
   "outputs": [],
   "source": [
    "# import images from directories\n",
    "rootdir = \"/Users/teboa/Documents/splitFAST_imaging/2023_12_06/\"\n",
    "matching_files = []\n",
    "for rootdir,subdir,files in os.walk(rootdir):\n",
    "    #for name in subdir:\n",
    "       #print(os.path.join(rootdir,name)) # will print path of directories\n",
    "    for name in files:\n",
    "        if name.endswith(\"_t00_RAW_ch01.tif\"):\n",
    "            #print(os.path.join(rootdir,name)) # will print path of files\n",
    "            file_path = os.path.join(rootdir,name)\n",
    "            matching_files.append(file_path) # Add matching file path to the list\n",
    "            print(matching_files)\n",
    "img = io.imread(matching_files[2])\n",
    "#plt.figure(figsize=(2,2))\n",
    "#plt.imshow(img)\n",
    "#plt.axis('off')\n",
    "#plt.show()"
   ]
  },
  {
   "cell_type": "code",
   "execution_count": null,
   "id": "2cceae54-9fdb-459f-81fb-0ad0d9b31d7a",
   "metadata": {},
   "outputs": [],
   "source": [
    "#test on one image\n",
    "from cellpose import models\n",
    "model = models.Cellpose(gpu=False, model_type='cyto')\n",
    "channels = [0,0]\n",
    "masks, flows, styles, diams = model.eval(img, diameter=None, channels=channels)\n",
    "#io.masks_flows_to_seg(img, masks, flows, diams, file_path, channels)\n",
    "#io.save_to_png(img, masks, flows, file_path)"
   ]
  },
  {
   "cell_type": "code",
   "execution_count": null,
   "id": "2a5e2c54-83c1-4f02-977b-e86c6d405361",
   "metadata": {},
   "outputs": [],
   "source": [
    "# DISPLAY RESULTS\n",
    "from cellpose import plot\n",
    "\n",
    "fig = plt.figure(figsize=(12,5))\n",
    "plot.show_segmentation(fig, img, masks, flows[0], channels=channels)\n",
    "plt.tight_layout()\n",
    "plt.show()"
   ]
  },
  {
   "cell_type": "code",
   "execution_count": null,
   "id": "13e13ae6-8d45-43a1-afc7-a7ec1134d940",
   "metadata": {},
   "outputs": [],
   "source": [
    "print(matching_files[-1])\n",
    "io.masks_flows_to_seg(img, masks, flows, diams, matching_files[-1], channels)\n",
    "new_file_path = os.path.splitext(file_path)[0] + \".png\"\n",
    "io.imsave(new_file_path, masks)\n",
    "#io.save_to_png(img, masks, flows, matching_files[-1])\n",
    "#io.save_rois(masks, matching_files[-1])"
   ]
  },
  {
   "cell_type": "code",
   "execution_count": null,
   "id": "00c760dc-a6c5-45d6-b297-3d68bf94e763",
   "metadata": {},
   "outputs": [],
   "source": [
    "# RUN CELLPOSE\n",
    "\n",
    "from cellpose import models\n",
    "\n",
    "# DEFINE CELLPOSE MODEL\n",
    "# model_type='cyto' or model_type='nuclei'\n",
    "model = models.Cellpose(gpu=False, model_type='cyto2')\n",
    "\n",
    "# define CHANNELS to run segementation on\n",
    "# grayscale=0, R=1, G=2, B=3\n",
    "# channels = [cytoplasm, nucleus]\n",
    "# if NUCLEUS channel does not exist, set the second channel to 0\n",
    "channels = [0,0]\n",
    "\n",
    "# if diameter is set to None, the size of the cells is estimated on a per image basis\n",
    "# you can set the average cell `diameter` in pixels yourself (recommended) \n",
    "# diameter can be a list or a single number for all images\n",
    "\n",
    "#imgs = [io.imread(file_path) for file_path in matching_files]\n",
    "#masks, flows, styles, diams = model.eval(imgs, diameter=45, channels=channels)\n",
    "#io.masks_flows_to_seg(imgs, masks, flows, diams, matching_files, channels)\n",
    "#io.save_to_png(imgs, masks, flows, matching_files)\n",
    "\n",
    "for file_path in matching_files:\n",
    "    img = io.imread(file_path)\n",
    "    masks, flows, styles, diams = model.eval(img, diameter=45, channels=channels)\n",
    "\n",
    "    # save results so you can load in gui\n",
    "    io.masks_flows_to_seg(img, masks, flows, diams, file_path, channels)\n",
    "\n",
    "    # save results as png\n",
    "    #io.save_to_png(img, masks, flows, file_path)\n",
    "    new_file_path = os.path.splitext(file_path)[0] + \".png\"\n",
    "    io.imsave(new_file_path, masks)\n"
   ]
  },
  {
   "cell_type": "code",
   "execution_count": null,
   "id": "cfafef91-fb92-4f50-81a7-1abb82744f7d",
   "metadata": {
    "editable": true,
    "slideshow": {
     "slide_type": ""
    },
    "tags": []
   },
   "outputs": [],
   "source": [
    "# DISPLAY RESULTS\n",
    "from cellpose import plot\n",
    "\n",
    "fig = plt.figure(figsize=(12,5))\n",
    "plot.show_segmentation(fig, img, masks, flows[0], channels=channels)\n",
    "plt.tight_layout()\n",
    "plt.show()"
   ]
  },
  {
   "cell_type": "code",
   "execution_count": null,
   "id": "0ce3936c-5ef5-4ca5-96ff-7544e414e3db",
   "metadata": {},
   "outputs": [],
   "source": []
  }
 ],
 "metadata": {
  "kernelspec": {
   "display_name": "Python 3 (ipykernel)",
   "language": "python",
   "name": "python3"
  },
  "language_info": {
   "codemirror_mode": {
    "name": "ipython",
    "version": 3
   },
   "file_extension": ".py",
   "mimetype": "text/x-python",
   "name": "python",
   "nbconvert_exporter": "python",
   "pygments_lexer": "ipython3",
   "version": "3.9.6"
  }
 },
 "nbformat": 4,
 "nbformat_minor": 5
}
