{
 "cells": [
  {
   "cell_type": "code",
   "execution_count": null,
   "id": "d615613b-02dd-4df4-a39c-39282897e112",
   "metadata": {},
   "outputs": [],
   "source": [
    "import numpy as np\n",
    "import pandas as pd\n",
    "import os\n",
    "import matplotlib.pyplot as plt\n",
    "import matplotlib as mpl\n",
    "%matplotlib inline"
   ]
  },
  {
   "cell_type": "code",
   "execution_count": null,
   "id": "bd603f16-067d-458b-95cc-0fa57ecb0689",
   "metadata": {},
   "outputs": [],
   "source": [
    "rootdir = \"/Users/teboa/Documents/splitFAST_imaging/2023_12_06/\"\n",
    "# Initialize an empty dictionary to hold dataframes\n",
    "dataframes = {}\n",
    "\n",
    "# Walk through the directory structure\n",
    "for dirpath, dirnames, filenames in os.walk(rootdir):\n",
    "    # Check if there are .csv files in the directory\n",
    "    if any(filename.endswith('.csv') for filename in filenames):\n",
    "        # Get the condition from the directory path\n",
    "        condition = os.path.basename(dirpath)\n",
    "        # Initialize an empty list to hold data for this condition\n",
    "        data = []\n",
    "        # Load each .csv file as a pandas dataframe and append it to the list\n",
    "        for filename in filenames:\n",
    "            if filename.endswith('.csv'):\n",
    "                df = pd.read_csv(os.path.join(dirpath, filename))\n",
    "                df.columns = ['frame'] + df.columns.tolist()[1:]\n",
    "                data.append(df)\n",
    "        # Concatenate all dataframes in the list and store it in the dictionary\n",
    "        dataframes[condition] = pd.concat([d.set_index('frame') for d in data], axis=1,join='inner').reset_index()"
   ]
  },
  {
   "cell_type": "code",
   "execution_count": null,
   "id": "b75b3633",
   "metadata": {},
   "outputs": [],
   "source": [
    "# Get the list of conditions\n",
    "conditions = list(dataframes.keys())\n",
    "\n",
    "# Print the conditions\n",
    "for condition in conditions:\n",
    "    print(condition)\n",
    "len(conditions)"
   ]
  },
  {
   "cell_type": "markdown",
   "id": "7e3e4d3d",
   "metadata": {},
   "source": [
    "should probably create a new dataframe with the name of the condition and add position data to it? need to add all the dfs together from a single condition (pd.concat([]), axis =1). convert frame to time (new df). plot raw data. make new df for each that is normalized between 0 and 1 and plot."
   ]
  },
  {
   "cell_type": "code",
   "execution_count": null,
   "id": "ac12f59c",
   "metadata": {},
   "outputs": [],
   "source": [
    "print(dataframes['RspA_MOM'].head())"
   ]
  },
  {
   "cell_type": "code",
   "execution_count": null,
   "id": "8b947831",
   "metadata": {},
   "outputs": [],
   "source": [
    "print(dataframes['RspA_MOM'].dtypes)"
   ]
  },
  {
   "cell_type": "code",
   "execution_count": null,
   "id": "4ebc73ca",
   "metadata": {},
   "outputs": [],
   "source": [
    "# Generate x,y plots for each condition\n",
    "# Determine the grid size for the plots\n",
    "# need to sort the graphs by condition\n",
    "grid_size = int(np.ceil(np.sqrt(len(dataframes))))\n",
    "\n",
    "fig, axs = plt.subplots(grid_size, grid_size, figsize=(15, 15))  # Create a grid of subplots\n",
    "\n",
    "# Flatten the axes array and remove extra subplots\n",
    "axs = axs.flatten()\n",
    "for ax in axs[len(dataframes):]:\n",
    "    fig.delaxes(ax)\n",
    "\n",
    "# Generate x,y plots for each condition\n",
    "for ax, (condition, df) in zip(axs, dataframes.items()):\n",
    "    for column in df.columns[1:]:  # Skip the 'frame' column\n",
    "        ax.plot(df['frame'], df[column], label=column)\n",
    "    ax.set_title(condition)  # Set the title of the plot as the condition name\n",
    "    ax.set_xlabel('Frame')  # Set the x-axis label\n",
    "    ax.set_ylabel('Value')  # Set the y-axis label\n",
    "  \n",
    "\n",
    "plt.tight_layout()\n",
    "plt.show()  # Display the plot\n"
   ]
  },
  {
   "cell_type": "code",
   "execution_count": null,
   "id": "ac487829",
   "metadata": {},
   "outputs": [],
   "source": [
    "#normalize data to max\n",
    "dataframes_norm = {}\n",
    "\n",
    "for condition,df in dataframes.items():\n",
    "    df_norm = df.copy() #create a copy of the dataframe to do the math in\n",
    "    for column in df_norm.columns[1:]:\n",
    "        df_norm[column] = df_norm[column]/df_norm[column].max()\n",
    "    dataframes_norm[condition] = df_norm\n",
    "\n",
    "print(dataframes_norm['RspA_MOM'].head())"
   ]
  },
  {
   "cell_type": "code",
   "execution_count": null,
   "id": "49af81f4",
   "metadata": {},
   "outputs": [],
   "source": [
    "# Generate x,y plots for each condition\n",
    "# Determine the grid size for the plots\n",
    "grid_size = int(np.ceil(np.sqrt(len(dataframes_norm))))\n",
    "\n",
    "fig, axs = plt.subplots(grid_size, grid_size, figsize=(15, 15))  # Create a grid of subplots\n",
    "\n",
    "# Flatten the axes array and remove extra subplots\n",
    "axs = axs.flatten()\n",
    "for ax in axs[len(dataframes_norm):]:\n",
    "    fig.delaxes(ax)\n",
    "\n",
    "# Generate x,y plots for each condition\n",
    "for ax, (condition, df) in zip(axs, dataframes_norm.items()):\n",
    "    for column in df.columns[1:]:  # Skip the 'frame' column\n",
    "        ax.plot(df['frame'], df[column], label=column)\n",
    "    ax.set_title(condition)  # Set the title of the plot as the condition name\n",
    "    ax.set_xlabel('Frame')  # Set the x-axis label\n",
    "    ax.set_ylabel('Value')  # Set the y-axis label\n",
    "  \n",
    "\n",
    "plt.tight_layout()\n",
    "plt.show()  # Display the plot"
   ]
  },
  {
   "cell_type": "code",
   "execution_count": null,
   "id": "eed26555",
   "metadata": {},
   "outputs": [],
   "source": [
    "#calculate mean and SD\n",
    "dataframes_mean = {}\n",
    "\n",
    "for condition,df in dataframes_norm.items():\n",
    "    df_mean = df.copy() #create a copy of the dataframe to do the math in\n",
    "    df_mean['mean'] = df_mean.iloc[:, 1:].mean(axis=1)\n",
    "    df_mean['SD']= df_mean.iloc[:, 1:-1].std(axis=1)\n",
    "    dataframes_mean[condition] = df_mean\n",
    "\n",
    "print(dataframes_mean['RspA_MOM'].head())\n"
   ]
  },
  {
   "cell_type": "code",
   "execution_count": null,
   "id": "40e4c1d4",
   "metadata": {},
   "outputs": [],
   "source": [
    "\n",
    "grid_size_m = int(np.ceil(np.sqrt(len(dataframes_mean))))\n",
    "\n",
    "fig1, axs1 = plt.subplots(grid_size_m, grid_size_m, figsize=(15, 15))  # Create a grid of subplots\n",
    "\n",
    "# Flatten the axes array and remove extra subplots\n",
    "axs1 = axs1.flatten()\n",
    "for ax in axs1[len(dataframes_mean):]:\n",
    "    fig1.delaxes(ax)\n",
    "    \n",
    "# Generate x,y plots for each condition\n",
    "for ax, (condition, df) in zip(axs1, dataframes_mean.items()):\n",
    "    for column in df.columns[1:]:  # Skip the 'frame' column\n",
    "        ax.errorbar(df['frame'], df['mean'], yerr = df['SD'], label= 'Mean')\n",
    "        #ax.plot(df['frame'], df['SD'], label= 'SD')\n",
    "    ax.set_title(condition)  # Set the title of the plot as the condition name\n",
    "    ax.set_xlabel('Frame')  # Set the x-axis label\n",
    "    ax.set_ylabel('Value')  # Set the y-axis label\n",
    "    ax.set_ybound(0,1.1)\n",
    "  \n",
    "\n",
    "plt.tight_layout()\n",
    "plt.show()  # Display the plot"
   ]
  },
  {
   "cell_type": "code",
   "execution_count": null,
   "id": "ec6cf430",
   "metadata": {},
   "outputs": [],
   "source": [
    "#calculate the contrast, i.e. pre-rapamycin fluorescence intensity vs. post-rapamycin fluorescence intensit\n",
    "dataframes_contrast = {}\n",
    "\n",
    "for condition, df in dataframes.items():\n",
    "    # Select the first four and last ten rows of the dataframe, excluding the 'frame' column\n",
    "    df_contrast = df.iloc[list(range(4)) + list(range(-10, 0)), 1:].T\n",
    "\n",
    "    # Calculate the mean of the first four and last ten columns\n",
    "    df_contrast['pre'] = df_contrast.iloc[:, :4].mean(axis=1)\n",
    "    df_contrast['post'] = df_contrast.iloc[:, -10:].mean(axis=1)\n",
    "\n",
    "    # Store the result in the dataframes_contrast dictionary\n",
    "    dataframes_contrast[condition] = df_contrast\n",
    "    \n",
    "print(dataframes_contrast['RspA_MOM'].head())"
   ]
  },
  {
   "cell_type": "code",
   "execution_count": null,
   "id": "0ac40954",
   "metadata": {},
   "outputs": [],
   "source": [
    "#plot pre- and post- rapamycin intensities\n",
    " \n",
    "import seaborn as sns\n",
    "from scipy import stats\n",
    "\n",
    "grid_size_c = int(np.ceil(np.sqrt(len(dataframes_mean))))\n",
    "\n",
    "fig2, axs2 = plt.subplots(grid_size_c, grid_size_c, figsize=(15, 15))  # Create a grid of subplots\n",
    "\n",
    "# Flatten the axes array and remove extra subplots\n",
    "axs2 = axs2.flatten()\n",
    "for ax in axs2[len(dataframes_contrast):]:\n",
    "    fig2.delaxes(ax)\n",
    "    \n",
    "# Generate x,y plots for each condition\n",
    "for ax, (condition, df) in zip(axs2, dataframes_contrast.items()):\n",
    "        # Select the 'pre' and 'post' columns\n",
    "    df_selected = df[['pre', 'post']]\n",
    "\n",
    "    # Melt the dataframe into a long format suitable for seaborn\n",
    "    df_melted = df_selected.melt(var_name='condition', value_name='value')\n",
    "\n",
    "    # Create the violin plot\n",
    "    sns.violinplot(x='condition', y='value', data=df_melted, ax=ax)\n",
    "\n",
    "    # Set the title of the plot as the condition name\n",
    "    ax.set_title(condition)\n",
    "    \n",
    "    # Perform a paired t-test\n",
    "    t_stat, p_value = stats.ttest_rel(df['pre'], df['post'])\n",
    "\n",
    "    # Add the p-value to the plot title\n",
    "    ax.set_title(f\"{condition} (p={p_value:.2e})\")\n",
    "  \n",
    "\n",
    "plt.tight_layout()\n",
    "plt.show()  # Display the plot"
   ]
  },
  {
   "cell_type": "code",
   "execution_count": null,
   "id": "152720ab",
   "metadata": {},
   "outputs": [],
   "source": [
    "# save some of this to .csv files for Prism\n",
    "savedir = \"/Users/teboa/Documents/splitFAST_imaging/2023_12_06/\"\n",
    "for i in dataframes_contrast:\n",
    "    dataframes_contrast[i].to_csv(savedir+'contrast'+str(i)+'.csv')\n",
    "\n",
    "for i in dataframes_mean:\n",
    "    dataframes_mean[i].to_csv(savedir+'mean'+str(i)+'.csv') \n"
   ]
  },
  {
   "cell_type": "code",
   "execution_count": null,
   "id": "b2e9d806-6a99-4d59-aa74-cc59d1cea3c6",
   "metadata": {},
   "outputs": [],
   "source": []
  }
 ],
 "metadata": {
  "kernelspec": {
   "display_name": "Python 3 (ipykernel)",
   "language": "python",
   "name": "python3"
  },
  "language_info": {
   "codemirror_mode": {
    "name": "ipython",
    "version": 3
   },
   "file_extension": ".py",
   "mimetype": "text/x-python",
   "name": "python",
   "nbconvert_exporter": "python",
   "pygments_lexer": "ipython3",
   "version": "3.11.6"
  }
 },
 "nbformat": 4,
 "nbformat_minor": 5
}
